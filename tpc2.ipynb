{
  "nbformat": 4,
  "nbformat_minor": 0,
  "metadata": {
    "colab": {
      "name": "tpc2.ipynb",
      "version": "0.3.2",
      "provenance": [],
      "collapsed_sections": [],
      "include_colab_link": true
    },
    "kernelspec": {
      "name": "python3",
      "display_name": "Python 3"
    }
  },
  "cells": [
    {
      "cell_type": "markdown",
      "metadata": {
        "id": "view-in-github",
        "colab_type": "text"
      },
      "source": [
        "<a href=\"https://colab.research.google.com/github/jorgepereira96/SAD_JorgePereira/blob/master/tpc2.ipynb\" target=\"_parent\"><img src=\"https://colab.research.google.com/assets/colab-badge.svg\" alt=\"Open In Colab\"/></a>"
      ]
    },
    {
      "metadata": {
        "id": "61ZiOgSSIQfM",
        "colab_type": "code",
        "colab": {
          "base_uri": "https://localhost:8080/",
          "height": 35
        },
        "outputId": "af9f12d6-b85d-4b22-9e18-1f1f1187a6d9"
      },
      "cell_type": "code",
      "source": [
        "#lista de cartas\n",
        "L1 = [\"1P\", \"1C\", \"1O\", \"2P\", \"2C\", \"2O\", \"2E\", \"3P\", \"3C\", \"3O\", \"3E\", \"4P\",\n",
        "     \"4C\", \"4O\", \"4E\", \"5P\", \"5C\", \"5O\", \"5E\", \"6P\", \"6C\", \"6O\", \"6E\", \"7P\",\n",
        "     \"7C\", \"7O\", \"7E\", \"8P\", \"8C\", \"8O\", \"8E\", \"9P\", \"9C\", \"9O\", \"9E\", \"DP\", \n",
        "     \"DC\", \"DO\", \"DE\", \"JP\", \"JC\", \"JO\", \"JE\", \"VP\", \"VC\", \"VO\", \"VE\", \"RP\",\n",
        "     \"RC\", \"RO\", \"RE\", \"1P\", \"1C\", \"1O\", \"1E\", \"2P\", \"2C\", \"2O\", \"2E\", \"3P\",\n",
        "     \"3C\", \"3O\", \"3E\", \"4P\", \"4C\", \"4O\", \"4E\", \"5P\", \"5C\", \"5O\", \"5E\", \"6P\",\n",
        "     \"6C\", \"6O\", \"6E\", \"7P\", \"7C\", \"7O\", \"7E\", \"8P\", \"8C\", \"8O\", \"8E\", \"9P\",\n",
        "     \"9C\", \"9O\", \"9E\", \"DP\", \"DC\", \"DO\", \"DE\", \"JP\", \"JC\", \"JO\", \"JE\", \"VP\",\n",
        "     \"VC\", \"VO\", \"VE\", \"RP\", \"RC\", \"RO\", \"RE\", \"1P\", \"1C\", \"1O\", \"1E\", \"2P\",\n",
        "     \"2C\", \"2O\", \"2E\", \"3P\", \"3C\", \"3O\", \"3E\", \"4P\", \"4C\", \"4O\", \"4E\", \"5P\",\n",
        "     \"5C\", \"5O\", \"5E\", \"6P\", \"6C\", \"6O\", \"6E\", \"7P\", \"7C\", \"7O\", \"7E\", \"8P\",\n",
        "     \"8C\", \"8O\", \"8E\", \"9P\", \"9C\", \"9O\", \"9E\", \"DP\", \"DC\", \"DO\", \"DE\", \"JP\",\n",
        "     \"JC\", \"JO\", \"JE\", \"VP\", \"VC\", \"VO\", \"VE\", \"RP\", \"RC\", \"RO\", \"RE\"]\n",
        "\n",
        "#lista de cartas 'existentes'\n",
        "L2 = {'1P': 0, '1E': 0, '1C': 0, '1O': 0, '2P': 0, '2E': 0, '2C': 0, '2O': 0,\n",
        "     '3P': 0, '3E': 0, '3C': 0, '3O': 0, '4P': 0, '4E': 0, '4C': 0, '4O': 0,\n",
        "     '5P': 0, '5E': 0, '5C': 0, '5O': 0, '6P': 0, '6E': 0, '6C': 0, '6O': 0,\n",
        "     '7P': 0, '7E': 0, '7C': 0, '7O': 0, '8P': 0, '8E': 0, '8C': 0, '8O': 0,\n",
        "     '9P': 0, '9E': 0, '9C': 0, '9O': 0, 'JP': 0, 'JE': 0, 'JC': 0, 'JO': 0,\n",
        "     'DP': 0, 'DE': 0, 'DC': 0, 'DO': 0, 'VP': 0, 'VE': 0, 'VC': 0, 'VO': 0,\n",
        "     'RP': 0, 'RE': 0, 'RC': 0, 'RO': 0}\n",
        "\n",
        "#percorre a lista L1, e sempre que encontrar alguma carta incrementa\n",
        "for i in range(len(L1)):\n",
        "    L2[L1[i]] += 1\n",
        "    \n",
        "#retorna o valor minimo dos argumentos da lista L2\n",
        "valMin = min(L2.values())\n",
        "\n",
        "print(\"Baralhos de cartas completos: \",valMin)"
      ],
      "execution_count": 15,
      "outputs": [
        {
          "output_type": "stream",
          "text": [
            "Baralhos de cartas completos:  0\n"
          ],
          "name": "stdout"
        }
      ]
    }
  ]
}