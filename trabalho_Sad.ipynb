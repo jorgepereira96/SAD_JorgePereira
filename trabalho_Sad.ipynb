{
  "nbformat": 4,
  "nbformat_minor": 0,
  "metadata": {
    "colab": {
      "name": "trabalho_Sad.ipynb",
      "version": "0.3.2",
      "provenance": [],
      "collapsed_sections": [],
      "toc_visible": true,
      "include_colab_link": true
    },
    "kernelspec": {
      "name": "python3",
      "display_name": "Python 3"
    }
  },
  "cells": [
    {
      "cell_type": "markdown",
      "metadata": {
        "id": "view-in-github",
        "colab_type": "text"
      },
      "source": [
        "<a href=\"https://colab.research.google.com/github/jorgepereira96/SAD_JorgePereira/blob/master/trabalho_Sad.ipynb\" target=\"_parent\"><img src=\"https://colab.research.google.com/assets/colab-badge.svg\" alt=\"Open In Colab\"/></a>"
      ]
    },
    {
      "metadata": {
        "id": "xb-nrtSz_xH2",
        "colab_type": "code",
        "colab": {}
      },
      "cell_type": "code",
      "source": [
        "import pandas as pd\n",
        "from google.colab import files\n",
        "import io\n",
        "import numpy as np\n",
        "import seaborn as sns\n",
        "import matplotlib as mlp\n",
        "import matplotlib.pyplot as plt"
      ],
      "execution_count": 0,
      "outputs": []
    },
    {
      "metadata": {
        "id": "zAgQktD4CjBR",
        "colab_type": "code",
        "outputId": "2849aa4c-a551-461f-c4e7-228ae87df33a",
        "colab": {
          "resources": {
            "http://localhost:8080/nbextensions/google.colab/files.js": {
              "data": "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",
              "ok": true,
              "headers": [
                [
                  "content-type",
                  "application/javascript"
                ]
              ],
              "status": 200,
              "status_text": "OK"
            }
          },
          "base_uri": "https://localhost:8080/",
          "height": 39
        }
      },
      "cell_type": "code",
      "source": [
        "uploaded = files.upload()"
      ],
      "execution_count": 0,
      "outputs": [
        {
          "output_type": "display_data",
          "data": {
            "text/html": [
              "\n",
              "     <input type=\"file\" id=\"files-a2b3ab98-90d4-436a-9ee5-dfbda0495e1f\" name=\"files[]\" multiple disabled />\n",
              "     <output id=\"result-a2b3ab98-90d4-436a-9ee5-dfbda0495e1f\">\n",
              "      Upload widget is only available when the cell has been executed in the\n",
              "      current browser session. Please rerun this cell to enable.\n",
              "      </output>\n",
              "      <script src=\"/nbextensions/google.colab/files.js\"></script> "
            ],
            "text/plain": [
              "<IPython.core.display.HTML object>"
            ]
          },
          "metadata": {
            "tags": []
          }
        }
      ]
    },
    {
      "metadata": {
        "id": "pd5HzTKOD70O",
        "colab_type": "code",
        "colab": {}
      },
      "cell_type": "code",
      "source": [
        "uploaded = files.upload()"
      ],
      "execution_count": 0,
      "outputs": []
    },
    {
      "metadata": {
        "id": "vSRorVJmkH3U",
        "colab_type": "code",
        "outputId": "23bf5d7f-c265-4516-8a96-17471c0c2f36",
        "colab": {
          "base_uri": "https://localhost:8080/",
          "height": 54
        }
      },
      "cell_type": "code",
      "source": [
        "df_movies = pd.read_csv('movies_metadata.csv')"
      ],
      "execution_count": 119,
      "outputs": [
        {
          "output_type": "stream",
          "text": [
            "/usr/local/lib/python3.6/dist-packages/IPython/core/interactiveshell.py:2718: DtypeWarning: Columns (10) have mixed types. Specify dtype option on import or set low_memory=False.\n",
            "  interactivity=interactivity, compiler=compiler, result=result)\n"
          ],
          "name": "stderr"
        }
      ]
    },
    {
      "metadata": {
        "id": "5KTqo4mCjyXC",
        "colab_type": "code",
        "colab": {}
      },
      "cell_type": "code",
      "source": [
        "df_ratings = pd.read_csv('ratings_small.csv')"
      ],
      "execution_count": 0,
      "outputs": []
    },
    {
      "metadata": {
        "id": "ms3kZvlsID3V",
        "colab_type": "code",
        "colab": {}
      },
      "cell_type": "code",
      "source": [
        "#Mudar nome de coluna, para se fazer a junção\n",
        "df_ratings.rename(columns ={'movieId':'id'}, inplace= True)\n",
        "df_ratings.columns\n",
        "df_ratings"
      ],
      "execution_count": 0,
      "outputs": []
    },
    {
      "metadata": {
        "id": "KOHrksAlJDGH",
        "colab_type": "code",
        "colab": {}
      },
      "cell_type": "code",
      "source": [
        "frames = [df_movies, df_ratings]\n",
        "result = pd.concat(frames)"
      ],
      "execution_count": 0,
      "outputs": []
    },
    {
      "metadata": {
        "id": "LjO1FbGKROB9",
        "colab_type": "code",
        "outputId": "08a31456-c6b8-46a2-8db5-e18b0ef1ed81",
        "colab": {
          "base_uri": "https://localhost:8080/",
          "height": 127
        }
      },
      "cell_type": "code",
      "source": [
        "#Seleção das colunas que intereçam para o nosso estudo\n",
        "\n",
        "df_final=result[['id','original_title','budget','genres','original_language',\n",
        "                 'rating','popularity','production_companies',\n",
        "                 'production_countries','runtime','revenue']]\n",
        "\n",
        "new_bud=pd.to_numeric(df_final.budget, errors='coerce')\n",
        "df_final['Budget']=new_bud"
      ],
      "execution_count": 123,
      "outputs": [
        {
          "output_type": "stream",
          "text": [
            "/usr/local/lib/python3.6/dist-packages/ipykernel_launcher.py:7: SettingWithCopyWarning: \n",
            "A value is trying to be set on a copy of a slice from a DataFrame.\n",
            "Try using .loc[row_indexer,col_indexer] = value instead\n",
            "\n",
            "See the caveats in the documentation: http://pandas.pydata.org/pandas-docs/stable/indexing.html#indexing-view-versus-copy\n",
            "  import sys\n"
          ],
          "name": "stderr"
        }
      ]
    },
    {
      "metadata": {
        "id": "WNAs20C6bwc7",
        "colab_type": "code",
        "colab": {
          "base_uri": "https://localhost:8080/",
          "height": 127
        },
        "outputId": "6e50ebf4-cc02-402a-92d2-575cfe45cd80"
      },
      "cell_type": "code",
      "source": [
        "#Lucro dos filmes\n",
        "df_final['lucro']=df_final['revenue']-df_final['Budget']"
      ],
      "execution_count": 124,
      "outputs": [
        {
          "output_type": "stream",
          "text": [
            "/usr/local/lib/python3.6/dist-packages/ipykernel_launcher.py:1: SettingWithCopyWarning: \n",
            "A value is trying to be set on a copy of a slice from a DataFrame.\n",
            "Try using .loc[row_indexer,col_indexer] = value instead\n",
            "\n",
            "See the caveats in the documentation: http://pandas.pydata.org/pandas-docs/stable/indexing.html#indexing-view-versus-copy\n",
            "  \"\"\"Entry point for launching an IPython kernel.\n"
          ],
          "name": "stderr"
        }
      ]
    },
    {
      "metadata": {
        "id": "OLaVVksMW752",
        "colab_type": "code",
        "colab": {
          "base_uri": "https://localhost:8080/",
          "height": 256
        },
        "outputId": "36079c80-5a94-4ffa-bf7b-104e1f256ec0"
      },
      "cell_type": "code",
      "source": [
        "df=df_final.drop(columns=['budget'])\n",
        "df.dtypes"
      ],
      "execution_count": 125,
      "outputs": [
        {
          "output_type": "execute_result",
          "data": {
            "text/plain": [
              "id                       object\n",
              "original_title           object\n",
              "genres                   object\n",
              "original_language        object\n",
              "rating                  float64\n",
              "popularity               object\n",
              "production_companies     object\n",
              "production_countries     object\n",
              "runtime                 float64\n",
              "revenue                 float64\n",
              "Budget                  float64\n",
              "lucro                   float64\n",
              "dtype: object"
            ]
          },
          "metadata": {
            "tags": []
          },
          "execution_count": 125
        }
      ]
    },
    {
      "metadata": {
        "id": "U83AH2eJoAPE",
        "colab_type": "code",
        "colab": {
          "base_uri": "https://localhost:8080/",
          "height": 693
        },
        "outputId": "e9f96250-6dc3-4007-839f-026575c6977e"
      },
      "cell_type": "code",
      "source": [
        "df.head(10)"
      ],
      "execution_count": 126,
      "outputs": [
        {
          "output_type": "execute_result",
          "data": {
            "text/html": [
              "<div>\n",
              "<style scoped>\n",
              "    .dataframe tbody tr th:only-of-type {\n",
              "        vertical-align: middle;\n",
              "    }\n",
              "\n",
              "    .dataframe tbody tr th {\n",
              "        vertical-align: top;\n",
              "    }\n",
              "\n",
              "    .dataframe thead th {\n",
              "        text-align: right;\n",
              "    }\n",
              "</style>\n",
              "<table border=\"1\" class=\"dataframe\">\n",
              "  <thead>\n",
              "    <tr style=\"text-align: right;\">\n",
              "      <th></th>\n",
              "      <th>id</th>\n",
              "      <th>original_title</th>\n",
              "      <th>genres</th>\n",
              "      <th>original_language</th>\n",
              "      <th>rating</th>\n",
              "      <th>popularity</th>\n",
              "      <th>production_companies</th>\n",
              "      <th>production_countries</th>\n",
              "      <th>runtime</th>\n",
              "      <th>revenue</th>\n",
              "      <th>Budget</th>\n",
              "      <th>lucro</th>\n",
              "    </tr>\n",
              "  </thead>\n",
              "  <tbody>\n",
              "    <tr>\n",
              "      <th>0</th>\n",
              "      <td>862</td>\n",
              "      <td>Toy Story</td>\n",
              "      <td>[{'id': 16, 'name': 'Animation'}, {'id': 35, '...</td>\n",
              "      <td>en</td>\n",
              "      <td>NaN</td>\n",
              "      <td>21.9469</td>\n",
              "      <td>[{'name': 'Pixar Animation Studios', 'id': 3}]</td>\n",
              "      <td>[{'iso_3166_1': 'US', 'name': 'United States o...</td>\n",
              "      <td>81.0</td>\n",
              "      <td>373554033.0</td>\n",
              "      <td>30000000.0</td>\n",
              "      <td>343554033.0</td>\n",
              "    </tr>\n",
              "    <tr>\n",
              "      <th>1</th>\n",
              "      <td>8844</td>\n",
              "      <td>Jumanji</td>\n",
              "      <td>[{'id': 12, 'name': 'Adventure'}, {'id': 14, '...</td>\n",
              "      <td>en</td>\n",
              "      <td>NaN</td>\n",
              "      <td>17.0155</td>\n",
              "      <td>[{'name': 'TriStar Pictures', 'id': 559}, {'na...</td>\n",
              "      <td>[{'iso_3166_1': 'US', 'name': 'United States o...</td>\n",
              "      <td>104.0</td>\n",
              "      <td>262797249.0</td>\n",
              "      <td>65000000.0</td>\n",
              "      <td>197797249.0</td>\n",
              "    </tr>\n",
              "    <tr>\n",
              "      <th>2</th>\n",
              "      <td>15602</td>\n",
              "      <td>Grumpier Old Men</td>\n",
              "      <td>[{'id': 10749, 'name': 'Romance'}, {'id': 35, ...</td>\n",
              "      <td>en</td>\n",
              "      <td>NaN</td>\n",
              "      <td>11.7129</td>\n",
              "      <td>[{'name': 'Warner Bros.', 'id': 6194}, {'name'...</td>\n",
              "      <td>[{'iso_3166_1': 'US', 'name': 'United States o...</td>\n",
              "      <td>101.0</td>\n",
              "      <td>0.0</td>\n",
              "      <td>0.0</td>\n",
              "      <td>0.0</td>\n",
              "    </tr>\n",
              "    <tr>\n",
              "      <th>3</th>\n",
              "      <td>31357</td>\n",
              "      <td>Waiting to Exhale</td>\n",
              "      <td>[{'id': 35, 'name': 'Comedy'}, {'id': 18, 'nam...</td>\n",
              "      <td>en</td>\n",
              "      <td>NaN</td>\n",
              "      <td>3.85949</td>\n",
              "      <td>[{'name': 'Twentieth Century Fox Film Corporat...</td>\n",
              "      <td>[{'iso_3166_1': 'US', 'name': 'United States o...</td>\n",
              "      <td>127.0</td>\n",
              "      <td>81452156.0</td>\n",
              "      <td>16000000.0</td>\n",
              "      <td>65452156.0</td>\n",
              "    </tr>\n",
              "    <tr>\n",
              "      <th>4</th>\n",
              "      <td>11862</td>\n",
              "      <td>Father of the Bride Part II</td>\n",
              "      <td>[{'id': 35, 'name': 'Comedy'}]</td>\n",
              "      <td>en</td>\n",
              "      <td>NaN</td>\n",
              "      <td>8.38752</td>\n",
              "      <td>[{'name': 'Sandollar Productions', 'id': 5842}...</td>\n",
              "      <td>[{'iso_3166_1': 'US', 'name': 'United States o...</td>\n",
              "      <td>106.0</td>\n",
              "      <td>76578911.0</td>\n",
              "      <td>0.0</td>\n",
              "      <td>76578911.0</td>\n",
              "    </tr>\n",
              "    <tr>\n",
              "      <th>5</th>\n",
              "      <td>949</td>\n",
              "      <td>Heat</td>\n",
              "      <td>[{'id': 28, 'name': 'Action'}, {'id': 80, 'nam...</td>\n",
              "      <td>en</td>\n",
              "      <td>NaN</td>\n",
              "      <td>17.9249</td>\n",
              "      <td>[{'name': 'Regency Enterprises', 'id': 508}, {...</td>\n",
              "      <td>[{'iso_3166_1': 'US', 'name': 'United States o...</td>\n",
              "      <td>170.0</td>\n",
              "      <td>187436818.0</td>\n",
              "      <td>60000000.0</td>\n",
              "      <td>127436818.0</td>\n",
              "    </tr>\n",
              "    <tr>\n",
              "      <th>6</th>\n",
              "      <td>11860</td>\n",
              "      <td>Sabrina</td>\n",
              "      <td>[{'id': 35, 'name': 'Comedy'}, {'id': 10749, '...</td>\n",
              "      <td>en</td>\n",
              "      <td>NaN</td>\n",
              "      <td>6.67728</td>\n",
              "      <td>[{'name': 'Paramount Pictures', 'id': 4}, {'na...</td>\n",
              "      <td>[{'iso_3166_1': 'DE', 'name': 'Germany'}, {'is...</td>\n",
              "      <td>127.0</td>\n",
              "      <td>0.0</td>\n",
              "      <td>58000000.0</td>\n",
              "      <td>-58000000.0</td>\n",
              "    </tr>\n",
              "    <tr>\n",
              "      <th>7</th>\n",
              "      <td>45325</td>\n",
              "      <td>Tom and Huck</td>\n",
              "      <td>[{'id': 28, 'name': 'Action'}, {'id': 12, 'nam...</td>\n",
              "      <td>en</td>\n",
              "      <td>NaN</td>\n",
              "      <td>2.56116</td>\n",
              "      <td>[{'name': 'Walt Disney Pictures', 'id': 2}]</td>\n",
              "      <td>[{'iso_3166_1': 'US', 'name': 'United States o...</td>\n",
              "      <td>97.0</td>\n",
              "      <td>0.0</td>\n",
              "      <td>0.0</td>\n",
              "      <td>0.0</td>\n",
              "    </tr>\n",
              "    <tr>\n",
              "      <th>8</th>\n",
              "      <td>9091</td>\n",
              "      <td>Sudden Death</td>\n",
              "      <td>[{'id': 28, 'name': 'Action'}, {'id': 12, 'nam...</td>\n",
              "      <td>en</td>\n",
              "      <td>NaN</td>\n",
              "      <td>5.23158</td>\n",
              "      <td>[{'name': 'Universal Pictures', 'id': 33}, {'n...</td>\n",
              "      <td>[{'iso_3166_1': 'US', 'name': 'United States o...</td>\n",
              "      <td>106.0</td>\n",
              "      <td>64350171.0</td>\n",
              "      <td>35000000.0</td>\n",
              "      <td>29350171.0</td>\n",
              "    </tr>\n",
              "    <tr>\n",
              "      <th>9</th>\n",
              "      <td>710</td>\n",
              "      <td>GoldenEye</td>\n",
              "      <td>[{'id': 12, 'name': 'Adventure'}, {'id': 28, '...</td>\n",
              "      <td>en</td>\n",
              "      <td>NaN</td>\n",
              "      <td>14.686</td>\n",
              "      <td>[{'name': 'United Artists', 'id': 60}, {'name'...</td>\n",
              "      <td>[{'iso_3166_1': 'GB', 'name': 'United Kingdom'...</td>\n",
              "      <td>130.0</td>\n",
              "      <td>352194034.0</td>\n",
              "      <td>58000000.0</td>\n",
              "      <td>294194034.0</td>\n",
              "    </tr>\n",
              "  </tbody>\n",
              "</table>\n",
              "</div>"
            ],
            "text/plain": [
              "      id               original_title  \\\n",
              "0    862                    Toy Story   \n",
              "1   8844                      Jumanji   \n",
              "2  15602             Grumpier Old Men   \n",
              "3  31357            Waiting to Exhale   \n",
              "4  11862  Father of the Bride Part II   \n",
              "5    949                         Heat   \n",
              "6  11860                      Sabrina   \n",
              "7  45325                 Tom and Huck   \n",
              "8   9091                 Sudden Death   \n",
              "9    710                    GoldenEye   \n",
              "\n",
              "                                              genres original_language  \\\n",
              "0  [{'id': 16, 'name': 'Animation'}, {'id': 35, '...                en   \n",
              "1  [{'id': 12, 'name': 'Adventure'}, {'id': 14, '...                en   \n",
              "2  [{'id': 10749, 'name': 'Romance'}, {'id': 35, ...                en   \n",
              "3  [{'id': 35, 'name': 'Comedy'}, {'id': 18, 'nam...                en   \n",
              "4                     [{'id': 35, 'name': 'Comedy'}]                en   \n",
              "5  [{'id': 28, 'name': 'Action'}, {'id': 80, 'nam...                en   \n",
              "6  [{'id': 35, 'name': 'Comedy'}, {'id': 10749, '...                en   \n",
              "7  [{'id': 28, 'name': 'Action'}, {'id': 12, 'nam...                en   \n",
              "8  [{'id': 28, 'name': 'Action'}, {'id': 12, 'nam...                en   \n",
              "9  [{'id': 12, 'name': 'Adventure'}, {'id': 28, '...                en   \n",
              "\n",
              "   rating popularity                               production_companies  \\\n",
              "0     NaN    21.9469     [{'name': 'Pixar Animation Studios', 'id': 3}]   \n",
              "1     NaN    17.0155  [{'name': 'TriStar Pictures', 'id': 559}, {'na...   \n",
              "2     NaN    11.7129  [{'name': 'Warner Bros.', 'id': 6194}, {'name'...   \n",
              "3     NaN    3.85949  [{'name': 'Twentieth Century Fox Film Corporat...   \n",
              "4     NaN    8.38752  [{'name': 'Sandollar Productions', 'id': 5842}...   \n",
              "5     NaN    17.9249  [{'name': 'Regency Enterprises', 'id': 508}, {...   \n",
              "6     NaN    6.67728  [{'name': 'Paramount Pictures', 'id': 4}, {'na...   \n",
              "7     NaN    2.56116        [{'name': 'Walt Disney Pictures', 'id': 2}]   \n",
              "8     NaN    5.23158  [{'name': 'Universal Pictures', 'id': 33}, {'n...   \n",
              "9     NaN     14.686  [{'name': 'United Artists', 'id': 60}, {'name'...   \n",
              "\n",
              "                                production_countries  runtime      revenue  \\\n",
              "0  [{'iso_3166_1': 'US', 'name': 'United States o...     81.0  373554033.0   \n",
              "1  [{'iso_3166_1': 'US', 'name': 'United States o...    104.0  262797249.0   \n",
              "2  [{'iso_3166_1': 'US', 'name': 'United States o...    101.0          0.0   \n",
              "3  [{'iso_3166_1': 'US', 'name': 'United States o...    127.0   81452156.0   \n",
              "4  [{'iso_3166_1': 'US', 'name': 'United States o...    106.0   76578911.0   \n",
              "5  [{'iso_3166_1': 'US', 'name': 'United States o...    170.0  187436818.0   \n",
              "6  [{'iso_3166_1': 'DE', 'name': 'Germany'}, {'is...    127.0          0.0   \n",
              "7  [{'iso_3166_1': 'US', 'name': 'United States o...     97.0          0.0   \n",
              "8  [{'iso_3166_1': 'US', 'name': 'United States o...    106.0   64350171.0   \n",
              "9  [{'iso_3166_1': 'GB', 'name': 'United Kingdom'...    130.0  352194034.0   \n",
              "\n",
              "       Budget        lucro  \n",
              "0  30000000.0  343554033.0  \n",
              "1  65000000.0  197797249.0  \n",
              "2         0.0          0.0  \n",
              "3  16000000.0   65452156.0  \n",
              "4         0.0   76578911.0  \n",
              "5  60000000.0  127436818.0  \n",
              "6  58000000.0  -58000000.0  \n",
              "7         0.0          0.0  \n",
              "8  35000000.0   29350171.0  \n",
              "9  58000000.0  294194034.0  "
            ]
          },
          "metadata": {
            "tags": []
          },
          "execution_count": 126
        }
      ]
    },
    {
      "metadata": {
        "id": "4xEvNdHwdJ00",
        "colab_type": "text"
      },
      "cell_type": "markdown",
      "source": [
        "## Catalogação do dataset"
      ]
    },
    {
      "metadata": {
        "id": "YqXbewXkdaN8",
        "colab_type": "text"
      },
      "cell_type": "markdown",
      "source": [
        "### Tamanho\n"
      ]
    },
    {
      "metadata": {
        "id": "UylRvtj3b5TU",
        "colab_type": "code",
        "outputId": "9d241508-9d60-416c-dbd8-01470d9917f4",
        "colab": {
          "base_uri": "https://localhost:8080/",
          "height": 54
        }
      },
      "cell_type": "code",
      "source": [
        "#Tamanho\n",
        "print('Tamnho Dataset: ')\n",
        "df.shape"
      ],
      "execution_count": 127,
      "outputs": [
        {
          "output_type": "stream",
          "text": [
            "Tamnho Dataset: \n"
          ],
          "name": "stdout"
        },
        {
          "output_type": "execute_result",
          "data": {
            "text/plain": [
              "(145470, 12)"
            ]
          },
          "metadata": {
            "tags": []
          },
          "execution_count": 127
        }
      ]
    },
    {
      "metadata": {
        "id": "8SFzWreVdpOz",
        "colab_type": "text"
      },
      "cell_type": "markdown",
      "source": [
        "### Resolução\n",
        "\n",
        "\n",
        "*   id: unique/int\n",
        "*   original_title: Título original do filme\n",
        "*   budget: (float)Custo da produção do filme\n",
        "*   genres: Genero que do filme\n",
        "*   original_language: Lingualgem\n",
        "*   rating:(float) Notas de 0 a 10 para a classificação\n",
        "*   popularity: Popularidade do filme\n",
        "*   production_companies: Equipa de produção do filme\n",
        "*   production_countries: Origem da equipa de produção do filme\n",
        "*   runtime: (float) Tempo de duração do filme \n",
        "*   revenue:(float) Ganhos de impresa com o filme, exemplo *merchandise* e serviços ao cliente\n",
        "\n",
        "\n",
        "\n"
      ]
    },
    {
      "metadata": {
        "id": "hND9j0vUdguS",
        "colab_type": "text"
      },
      "cell_type": "markdown",
      "source": [
        "### Dimensionalidade/Esparcidade\n"
      ]
    },
    {
      "metadata": {
        "id": "k-ka63moSiJc",
        "colab_type": "code",
        "outputId": "19d095c6-5a94-4127-de4d-d8a4a2f688db",
        "colab": {
          "base_uri": "https://localhost:8080/",
          "height": 366
        }
      },
      "cell_type": "code",
      "source": [
        "#Dimensionalidade\n",
        "print('Dimensionalidade do dataset: ' + str(len(df.columns)) + ' colunas\\n')\n",
        "\n",
        "#Esparsidade\n",
        "print('Esparsidade de cada coluna do dataset:')\n",
        "ts = pd.Series(np.random.randn(10))\n",
        "ts[2:-2] = np.nan\n",
        "sts = ts.to_sparse()\n",
        "print(sts)\n",
        "print('\\n')"
      ],
      "execution_count": 110,
      "outputs": [
        {
          "output_type": "stream",
          "text": [
            "Dimensionalidade do dataset: 12 colunas\n",
            "\n",
            "Esparsidade de cada coluna do dataset:\n",
            "0    0.819728\n",
            "1   -0.814887\n",
            "2         NaN\n",
            "3         NaN\n",
            "4         NaN\n",
            "5         NaN\n",
            "6         NaN\n",
            "7         NaN\n",
            "8   -0.340321\n",
            "9    2.015078\n",
            "dtype: float64\n",
            "BlockIndex\n",
            "Block locations: array([0, 8], dtype=int32)\n",
            "Block lengths: array([2, 2], dtype=int32)\n",
            "\n",
            "\n"
          ],
          "name": "stdout"
        }
      ]
    },
    {
      "metadata": {
        "id": "DGVQl7QkDVJR",
        "colab_type": "text"
      },
      "cell_type": "markdown",
      "source": [
        "### Valores Médios\n"
      ]
    },
    {
      "metadata": {
        "id": "XQAhChIfuG3j",
        "colab_type": "text"
      },
      "cell_type": "markdown",
      "source": [
        ""
      ]
    },
    {
      "metadata": {
        "id": "bJL9dFruGMsY",
        "colab_type": "code",
        "outputId": "4f62a700-f391-426e-f56c-dfcb3e6cfced",
        "colab": {
          "base_uri": "https://localhost:8080/",
          "height": 411
        }
      },
      "cell_type": "code",
      "source": [
        "#Estatisticas da label/target\n",
        "display(df.describe())\n",
        "print('\\nRatings')\n",
        "df['rating'].agg(['min','max','mean'])\n",
        "\n"
      ],
      "execution_count": 111,
      "outputs": [
        {
          "output_type": "display_data",
          "data": {
            "text/html": [
              "<div>\n",
              "<style scoped>\n",
              "    .dataframe tbody tr th:only-of-type {\n",
              "        vertical-align: middle;\n",
              "    }\n",
              "\n",
              "    .dataframe tbody tr th {\n",
              "        vertical-align: top;\n",
              "    }\n",
              "\n",
              "    .dataframe thead th {\n",
              "        text-align: right;\n",
              "    }\n",
              "</style>\n",
              "<table border=\"1\" class=\"dataframe\">\n",
              "  <thead>\n",
              "    <tr style=\"text-align: right;\">\n",
              "      <th></th>\n",
              "      <th>rating</th>\n",
              "      <th>runtime</th>\n",
              "      <th>revenue</th>\n",
              "      <th>Budget</th>\n",
              "      <th>lucro</th>\n",
              "    </tr>\n",
              "  </thead>\n",
              "  <tbody>\n",
              "    <tr>\n",
              "      <th>count</th>\n",
              "      <td>100004.000000</td>\n",
              "      <td>45203.000000</td>\n",
              "      <td>4.546000e+04</td>\n",
              "      <td>4.546300e+04</td>\n",
              "      <td>4.546000e+04</td>\n",
              "    </tr>\n",
              "    <tr>\n",
              "      <th>mean</th>\n",
              "      <td>3.543608</td>\n",
              "      <td>94.128199</td>\n",
              "      <td>1.120935e+07</td>\n",
              "      <td>4.224579e+06</td>\n",
              "      <td>6.984491e+06</td>\n",
              "    </tr>\n",
              "    <tr>\n",
              "      <th>std</th>\n",
              "      <td>1.058064</td>\n",
              "      <td>38.407810</td>\n",
              "      <td>6.433225e+07</td>\n",
              "      <td>1.742413e+07</td>\n",
              "      <td>5.214125e+07</td>\n",
              "    </tr>\n",
              "    <tr>\n",
              "      <th>min</th>\n",
              "      <td>0.500000</td>\n",
              "      <td>0.000000</td>\n",
              "      <td>0.000000e+00</td>\n",
              "      <td>0.000000e+00</td>\n",
              "      <td>-1.657101e+08</td>\n",
              "    </tr>\n",
              "    <tr>\n",
              "      <th>25%</th>\n",
              "      <td>3.000000</td>\n",
              "      <td>85.000000</td>\n",
              "      <td>0.000000e+00</td>\n",
              "      <td>0.000000e+00</td>\n",
              "      <td>0.000000e+00</td>\n",
              "    </tr>\n",
              "    <tr>\n",
              "      <th>50%</th>\n",
              "      <td>4.000000</td>\n",
              "      <td>95.000000</td>\n",
              "      <td>0.000000e+00</td>\n",
              "      <td>0.000000e+00</td>\n",
              "      <td>0.000000e+00</td>\n",
              "    </tr>\n",
              "    <tr>\n",
              "      <th>75%</th>\n",
              "      <td>4.000000</td>\n",
              "      <td>107.000000</td>\n",
              "      <td>0.000000e+00</td>\n",
              "      <td>0.000000e+00</td>\n",
              "      <td>0.000000e+00</td>\n",
              "    </tr>\n",
              "    <tr>\n",
              "      <th>max</th>\n",
              "      <td>5.000000</td>\n",
              "      <td>1256.000000</td>\n",
              "      <td>2.787965e+09</td>\n",
              "      <td>3.800000e+08</td>\n",
              "      <td>2.550965e+09</td>\n",
              "    </tr>\n",
              "  </tbody>\n",
              "</table>\n",
              "</div>"
            ],
            "text/plain": [
              "              rating       runtime       revenue        Budget         lucro\n",
              "count  100004.000000  45203.000000  4.546000e+04  4.546300e+04  4.546000e+04\n",
              "mean        3.543608     94.128199  1.120935e+07  4.224579e+06  6.984491e+06\n",
              "std         1.058064     38.407810  6.433225e+07  1.742413e+07  5.214125e+07\n",
              "min         0.500000      0.000000  0.000000e+00  0.000000e+00 -1.657101e+08\n",
              "25%         3.000000     85.000000  0.000000e+00  0.000000e+00  0.000000e+00\n",
              "50%         4.000000     95.000000  0.000000e+00  0.000000e+00  0.000000e+00\n",
              "75%         4.000000    107.000000  0.000000e+00  0.000000e+00  0.000000e+00\n",
              "max         5.000000   1256.000000  2.787965e+09  3.800000e+08  2.550965e+09"
            ]
          },
          "metadata": {
            "tags": []
          }
        },
        {
          "output_type": "stream",
          "text": [
            "\n",
            "Ratings\n"
          ],
          "name": "stdout"
        },
        {
          "output_type": "execute_result",
          "data": {
            "text/plain": [
              "min     0.500000\n",
              "max     5.000000\n",
              "mean    3.543608\n",
              "Name: rating, dtype: float64"
            ]
          },
          "metadata": {
            "tags": []
          },
          "execution_count": 111
        }
      ]
    },
    {
      "metadata": {
        "id": "vHlcGbefLUEn",
        "colab_type": "text"
      },
      "cell_type": "markdown",
      "source": [
        "### Termos estatísticos Label/Target \n",
        "\n",
        "Sendo o nosso Target o rating dos filmes, podemos observar e concluir que em média os filmes tem uma classificação de 3.543608 de 0 a 5. A classificação mais alta dada a um filme foi de 5, e a menor classificação é de 0.500000."
      ]
    },
    {
      "metadata": {
        "id": "mZmBlxopNSeH",
        "colab_type": "code",
        "outputId": "ce6a7336-7d04-43a3-95e7-f9d2eca7ccff",
        "colab": {
          "base_uri": "https://localhost:8080/",
          "height": 455
        }
      },
      "cell_type": "code",
      "source": [
        "sns.countplot(df['rating'])\n",
        "\n",
        "print('\\nEste gráfico representa a contagem de classificação dos filmes \\n')"
      ],
      "execution_count": 112,
      "outputs": [
        {
          "output_type": "stream",
          "text": [
            "/usr/local/lib/python3.6/dist-packages/seaborn/categorical.py:1428: FutureWarning: remove_na is deprecated and is a private function. Do not use.\n",
            "  stat_data = remove_na(group_data)\n"
          ],
          "name": "stderr"
        },
        {
          "output_type": "stream",
          "text": [
            "\n",
            "Este gráfico representa a contagem de classificação dos filmes \n",
            "\n"
          ],
          "name": "stdout"
        },
        {
          "output_type": "display_data",
          "data": {
            "image/png": "[encoded data removed]",
            "text/plain": [
              "<Figure size 576x396 with 1 Axes>"
            ]
          },
          "metadata": {
            "tags": []
          }
        }
      ]
    },
    {
      "metadata": {
        "id": "OfVcU3yNDeny",
        "colab_type": "text"
      },
      "cell_type": "markdown",
      "source": [
        "### Tipos das features\n",
        "\n",
        "* id: Discreto \n",
        "* original_title: Qualitativo\n",
        "* budget: Continuo\n",
        "* genres: Qualitativo\n",
        "* original_language: Qualitativo\n",
        "* rating: Continuo\n",
        "* popularity: Continuo\n",
        "* production_companies: Qualitativo\n",
        "* production_countries: Qualitativo\n",
        "* runtime: Continuo"
      ]
    },
    {
      "metadata": {
        "id": "JH4twscVD3fq",
        "colab_type": "text"
      },
      "cell_type": "markdown",
      "source": [
        "### Análise NaN's\n"
      ]
    },
    {
      "metadata": {
        "id": "dLxFr7iID3tl",
        "colab_type": "code",
        "outputId": "4dc228a0-f6a3-43ae-d6bc-cbadd3823a97",
        "colab": {
          "base_uri": "https://localhost:8080/",
          "height": 256
        }
      },
      "cell_type": "code",
      "source": [
        "#Verificar se há colunas a NULL\n",
        "df.isna().any()"
      ],
      "execution_count": 128,
      "outputs": [
        {
          "output_type": "execute_result",
          "data": {
            "text/plain": [
              "id                      False\n",
              "original_title           True\n",
              "genres                   True\n",
              "original_language        True\n",
              "rating                   True\n",
              "popularity               True\n",
              "production_companies     True\n",
              "production_countries     True\n",
              "runtime                  True\n",
              "revenue                  True\n",
              "Budget                   True\n",
              "lucro                    True\n",
              "dtype: bool"
            ]
          },
          "metadata": {
            "tags": []
          },
          "execution_count": 128
        }
      ]
    },
    {
      "metadata": {
        "id": "O7RdeTv9HKzx",
        "colab_type": "code",
        "colab": {}
      },
      "cell_type": "code",
      "source": [
        "#Alteração de Null para zero em 'rating','runtime','revenue'.\n",
        "df.fillna(value=0,inplace=True)\n",
        "\n",
        "df[\"rating\"] = df[\"rating\"].astype(int)\n",
        "df[\"runtime\"] = df[\"runtime\"].astype(int)\n",
        "df[\"revenue\"] = df[\"revenue\"].astype(int)"
      ],
      "execution_count": 0,
      "outputs": []
    },
    {
      "metadata": {
        "id": "odCwAMoZcgz7",
        "colab_type": "text"
      },
      "cell_type": "markdown",
      "source": [
        "### Quais as features em termos do problema que não fazem sentido\n",
        "\n",
        "Depois de uma análise a todas as features chegámos á concordância de que algumas teriam de ser rejeitadas com o fim de facilitar o nosso modelo e torná-lo mais prático.\n",
        "Segue a listagem das features rejeitadas:\n",
        "\n",
        "* *imdbId* -Id do imdb do filme;\n",
        "* *tmdbId* - Id de tmdb do filme; \n",
        "* *aduld*- feature binário do filme ser para maiores de 18, ou não;\n",
        "* *belongs_to_collection* - nome da coleção do filme, se este fizer parte de uma coleção;\n",
        "* *homepage* - url do site do filme;\n",
        "* *imdb_Id* - Id do imdb do filme;\n",
        "* *overview* - Pequeno resumo do plot do filme;\n",
        "* *poster_path* - Imagem do poster do filme;\n",
        "* *release*-date - Data de lançamento do filme;\n",
        "* *spoken_languages* - Todas as línguas faladas no filme;\n",
        "* *status* - Estado do filme, se já foi lançado ou não;\n",
        "* *tagline* - O filme em poucas palavras;\n",
        "* *video *- boolean;\n",
        "* *vote_average* - Média da classificação de votos;\n",
        "* *vote_count* - Quantidade de votos;\n",
        "* *timestamp* - data de lançamento;"
      ]
    },
    {
      "metadata": {
        "id": "tfBLhCG7fhRk",
        "colab_type": "text"
      },
      "cell_type": "markdown",
      "source": [
        "### Features que poderia utilizar para enriquecer a informação do problema\n",
        "\n",
        "Outros features que pensamos que nos podiam ajudar no modelo seriam:\n",
        "\n",
        "* Atores principais e atores secundários - Uma listagem dos atores principais e secundários juntamente com o seu ID\n",
        "para que possamos comparar os filmes em que estes estão presentes e relacioná-los com a classificação do filme;\n",
        "\n",
        "* Total de awards individuas - O número total de prémios ganhos por todos os que contribuiram para a produção\n",
        "do filme;\n",
        "\n",
        "* Diretor - Uma listagem dos diretores dos filmes juntamente com os seus IDs;"
      ]
    },
    {
      "metadata": {
        "id": "2LGUnn59i9zD",
        "colab_type": "text"
      },
      "cell_type": "markdown",
      "source": [
        "###  Encoding ou one hot encoding para features discretas\n",
        "\n"
      ]
    },
    {
      "metadata": {
        "id": "wDEXq8d0G66H",
        "colab_type": "text"
      },
      "cell_type": "markdown",
      "source": [
        "### Matriz de Correlação entre features\n"
      ]
    },
    {
      "metadata": {
        "id": "CtSX6c5xHCk_",
        "colab_type": "code",
        "outputId": "0f48537f-cf10-432f-ee32-1e6465a2f82d",
        "colab": {
          "base_uri": "https://localhost:8080/",
          "height": 206
        }
      },
      "cell_type": "code",
      "source": [
        "df.corr()"
      ],
      "execution_count": 115,
      "outputs": [
        {
          "output_type": "execute_result",
          "data": {
            "text/html": [
              "<div>\n",
              "<style scoped>\n",
              "    .dataframe tbody tr th:only-of-type {\n",
              "        vertical-align: middle;\n",
              "    }\n",
              "\n",
              "    .dataframe tbody tr th {\n",
              "        vertical-align: top;\n",
              "    }\n",
              "\n",
              "    .dataframe thead th {\n",
              "        text-align: right;\n",
              "    }\n",
              "</style>\n",
              "<table border=\"1\" class=\"dataframe\">\n",
              "  <thead>\n",
              "    <tr style=\"text-align: right;\">\n",
              "      <th></th>\n",
              "      <th>rating</th>\n",
              "      <th>runtime</th>\n",
              "      <th>revenue</th>\n",
              "      <th>Budget</th>\n",
              "      <th>lucro</th>\n",
              "    </tr>\n",
              "  </thead>\n",
              "  <tbody>\n",
              "    <tr>\n",
              "      <th>rating</th>\n",
              "      <td>1.000000</td>\n",
              "      <td>-0.774252</td>\n",
              "      <td>-0.123868</td>\n",
              "      <td>-0.170740</td>\n",
              "      <td>-0.095628</td>\n",
              "    </tr>\n",
              "    <tr>\n",
              "      <th>runtime</th>\n",
              "      <td>-0.774252</td>\n",
              "      <td>1.000000</td>\n",
              "      <td>0.174218</td>\n",
              "      <td>0.235845</td>\n",
              "      <td>0.135955</td>\n",
              "    </tr>\n",
              "    <tr>\n",
              "      <th>revenue</th>\n",
              "      <td>-0.123868</td>\n",
              "      <td>0.174218</td>\n",
              "      <td>1.000000</td>\n",
              "      <td>0.774134</td>\n",
              "      <td>0.976733</td>\n",
              "    </tr>\n",
              "    <tr>\n",
              "      <th>Budget</th>\n",
              "      <td>-0.170740</td>\n",
              "      <td>0.235845</td>\n",
              "      <td>0.774134</td>\n",
              "      <td>1.000000</td>\n",
              "      <td>0.620365</td>\n",
              "    </tr>\n",
              "    <tr>\n",
              "      <th>lucro</th>\n",
              "      <td>-0.095628</td>\n",
              "      <td>0.135955</td>\n",
              "      <td>0.976733</td>\n",
              "      <td>0.620365</td>\n",
              "      <td>1.000000</td>\n",
              "    </tr>\n",
              "  </tbody>\n",
              "</table>\n",
              "</div>"
            ],
            "text/plain": [
              "           rating   runtime   revenue    Budget     lucro\n",
              "rating   1.000000 -0.774252 -0.123868 -0.170740 -0.095628\n",
              "runtime -0.774252  1.000000  0.174218  0.235845  0.135955\n",
              "revenue -0.123868  0.174218  1.000000  0.774134  0.976733\n",
              "Budget  -0.170740  0.235845  0.774134  1.000000  0.620365\n",
              "lucro   -0.095628  0.135955  0.976733  0.620365  1.000000"
            ]
          },
          "metadata": {
            "tags": []
          },
          "execution_count": 115
        }
      ]
    },
    {
      "metadata": {
        "id": "XsBw8ft3ewFT",
        "colab_type": "code",
        "colab": {
          "base_uri": "https://localhost:8080/",
          "height": 191
        },
        "outputId": "80e8866c-7f1d-4372-e2bd-6f8479fa3f05"
      },
      "cell_type": "code",
      "source": [
        "\n",
        "\n",
        "\n",
        "\n",
        "#imprimir o tipo de campos e a sua respetiva quantidade de forma a ser possível analisar os outliers\n",
        "\n",
        "print(collections.Counter(df['rating']),'\\n')"
      ],
      "execution_count": 116,
      "outputs": [
        {
          "output_type": "error",
          "ename": "NameError",
          "evalue": "ignored",
          "traceback": [
            "\u001b[0;31m---------------------------------------------------------------------------\u001b[0m",
            "\u001b[0;31mNameError\u001b[0m                                 Traceback (most recent call last)",
            "\u001b[0;32m<ipython-input-116-e51034769447>\u001b[0m in \u001b[0;36m<module>\u001b[0;34m()\u001b[0m\n\u001b[1;32m      1\u001b[0m \u001b[0;34m\u001b[0m\u001b[0m\n\u001b[0;32m----> 2\u001b[0;31m \u001b[0mprint\u001b[0m\u001b[0;34m(\u001b[0m\u001b[0mcollections\u001b[0m\u001b[0;34m.\u001b[0m\u001b[0mCounter\u001b[0m\u001b[0;34m(\u001b[0m\u001b[0mdf\u001b[0m\u001b[0;34m[\u001b[0m\u001b[0;34m'rating'\u001b[0m\u001b[0;34m]\u001b[0m\u001b[0;34m)\u001b[0m\u001b[0;34m,\u001b[0m\u001b[0;34m'\\n'\u001b[0m\u001b[0;34m)\u001b[0m\u001b[0;34m\u001b[0m\u001b[0;34m\u001b[0m\u001b[0m\n\u001b[0m",
            "\u001b[0;31mNameError\u001b[0m: name 'collections' is not defined"
          ]
        }
      ]
    },
    {
      "metadata": {
        "id": "1OxMLmtHdYXT",
        "colab_type": "text"
      },
      "cell_type": "markdown",
      "source": [
        ""
      ]
    }
  ]
}