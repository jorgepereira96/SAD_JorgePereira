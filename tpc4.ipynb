{
  "nbformat": 4,
  "nbformat_minor": 0,
  "metadata": {
    "colab": {
      "name": "tpc4",
      "version": "0.3.2",
      "provenance": [],
      "include_colab_link": true
    },
    "kernelspec": {
      "name": "python3",
      "display_name": "Python 3"
    }
  },
  "cells": [
    {
      "cell_type": "markdown",
      "metadata": {
        "id": "view-in-github",
        "colab_type": "text"
      },
      "source": [
        "<a href=\"https://colab.research.google.com/github/jorgepereira96/SAD_JorgePereira/blob/master/tpc4.ipynb\" target=\"_parent\"><img src=\"https://colab.research.google.com/assets/colab-badge.svg\" alt=\"Open In Colab\"/></a>"
      ]
    },
    {
      "metadata": {
        "id": "Q8-05YmOgkZl",
        "colab_type": "code",
        "colab": {
          "base_uri": "https://localhost:8080/",
          "height": 834
        },
        "outputId": "cc08178d-4379-4145-b65e-920d2e938efe"
      },
      "cell_type": "code",
      "source": [
        "from sklearn import datasets, tree, model_selection\n",
        "\n",
        "import pandas as pd\n",
        "import numpy as np\n",
        "import matplotlib.pyplot as plt\n",
        "\n",
        "\n",
        "\n",
        "\n",
        "digits = datasets.load_digits()\n",
        "\n",
        "\n",
        "[features_train, features_test, classes_train, classes_test] = model_selection.train_test_split(digits.data, digits.target, test_size=0.30)\n",
        "model = tree.DecisionTreeClassifier()\n",
        "\n",
        "clf = model.fit(features_train, classes_train)\n",
        "\n",
        "score_train = model.score(features_train, classes_train)\n",
        "score_test = model.score(features_test, classes_test)\n",
        "\n",
        "print(\"Features:\", digits.target_names)\n",
        "print(\"score_train:\", score_train)\n",
        "print(\"score_test:\", score_test)\n",
        "print(\"\")\n",
        "\n",
        "\n",
        "print(\"Resultados mal classificados:\")\n",
        "res = model.predict(features_test)\n",
        "err_features=features_test[res!=classes_test,:][:2]\n",
        "print(\"actual: \",classes_test[res!=classes_test])\n",
        "print(\"predict:\",res[res!=classes_test])\n",
        "\n",
        "\n",
        "plt.figure()\n",
        "for i,feat in enumerate(err_features):\n",
        "    plt.subplot(1, 2, i+1)    \n",
        "    plt.imshow(feat.reshape(8,8), cmap='binary')\n",
        "\n",
        "plt.show()\n",
        "print(\"\")\n",
        "\n",
        "\n",
        "ok_features=features_test[res==classes_test,:][:2]\n",
        "\n",
        "\n",
        "print(\"Resultados bem classificados:\")\n",
        "print(\"actual: \",classes_test[res!=classes_test])\n",
        "print(\"predict:\",res[res!=classes_test])\n",
        "plt.figure()\n",
        "for i,feat in enumerate(ok_features):\n",
        "    plt.subplot(1, 2, i+1)    \n",
        "    plt.imshow(feat.reshape(8,8), cmap='binary')"
      ],
      "execution_count": 4,
      "outputs": [
        {
          "output_type": "stream",
          "text": [
            "Features: [0 1 2 3 4 5 6 7 8 9]\n",
            "score_train: 1.0\n",
            "score_test: 0.837037037037037\n",
            "\n",
            "Resultados mal classificados:\n",
            "actual:  [1 0 3 6 9 1 1 9 7 8 8 5 2 3 9 2 1 9 1 9 1 1 2 1 8 3 8 1 8 4 8 8 8 9 9 6 4\n",
            " 2 4 8 8 5 8 8 1 9 7 9 5 9 8 9 1 6 7 0 7 2 1 1 7 8 8 1 8 8 0 6 8 8 4 5 5 9\n",
            " 8 8 3 1 1 2 1 6 2 1 9 6 9 5]\n",
            "predict: [9 4 8 1 5 2 5 5 3 2 9 3 8 8 3 8 9 5 8 5 8 8 1 2 5 9 5 6 1 0 5 1 3 3 1 1 1\n",
            " 6 7 2 5 9 2 2 2 3 4 8 6 8 1 8 3 3 3 4 9 3 9 4 9 3 1 5 9 2 8 1 3 2 7 7 4 8\n",
            " 7 0 1 7 5 8 5 4 5 2 5 5 1 4]\n"
          ],
          "name": "stdout"
        },
        {
          "output_type": "display_data",
          "data": {
            "image/png": "[encoded data removed]",
            "text/plain": [
              "<matplotlib.figure.Figure at 0x7fe6f4f38898>"
            ]
          },
          "metadata": {
            "tags": []
          }
        },
        {
          "output_type": "stream",
          "text": [
            "\n",
            "Resultados bem classificados:\n",
            "actual:  [1 0 3 6 9 1 1 9 7 8 8 5 2 3 9 2 1 9 1 9 1 1 2 1 8 3 8 1 8 4 8 8 8 9 9 6 4\n",
            " 2 4 8 8 5 8 8 1 9 7 9 5 9 8 9 1 6 7 0 7 2 1 1 7 8 8 1 8 8 0 6 8 8 4 5 5 9\n",
            " 8 8 3 1 1 2 1 6 2 1 9 6 9 5]\n",
            "predict: [9 4 8 1 5 2 5 5 3 2 9 3 8 8 3 8 9 5 8 5 8 8 1 2 5 9 5 6 1 0 5 1 3 3 1 1 1\n",
            " 6 7 2 5 9 2 2 2 3 4 8 6 8 1 8 3 3 3 4 9 3 9 4 9 3 1 5 9 2 8 1 3 2 7 7 4 8\n",
            " 7 0 1 7 5 8 5 4 5 2 5 5 1 4]\n"
          ],
          "name": "stdout"
        },
        {
          "output_type": "display_data",
          "data": {
            "image/png": "[encoded data removed]",
            "text/plain": [
              "<matplotlib.figure.Figure at 0x7fe6f4dbec18>"
            ]
          },
          "metadata": {
            "tags": []
          }
        }
      ]
    },
    {
      "metadata": {
        "id": "wcTxqqxMgvFA",
        "colab_type": "code",
        "colab": {
          "base_uri": "https://localhost:8080/",
          "height": 54
        },
        "outputId": "05fdd2ba-8fa2-4dec-aef1-54b1d88c3ecd"
      },
      "cell_type": "code",
      "source": [
        "import numpy as np\n",
        "import matplotlib.pyplot as plt\n",
        "from matplotlib.colors import ListedColormap\n",
        "from sklearn.ensemble import RandomForestClassifier\n",
        "from sklearn import datasets\n",
        "\n",
        "\n",
        "digits = datasets.load_digits()\n",
        "\n",
        "[features_train, features_test, classes_train, classes_test] = model_selection.train_test_split(digits.data, digits.target, test_size=0.30)\n",
        "model = RandomForestClassifier(n_estimators=1000)\n",
        "\n",
        "clf = model.fit(features_train, classes_train)\n",
        "\n",
        "score_train = model.score(features_train, classes_train)\n",
        "score_test = model.score(features_test, classes_test)\n",
        "\n",
        "print(\"score_train:\", score_train)\n",
        "print(\"score_test:\", score_test)"
      ],
      "execution_count": 2,
      "outputs": [
        {
          "output_type": "stream",
          "text": [
            "score_train: 1.0\n",
            "score_test: 0.987037037037037\n"
          ],
          "name": "stdout"
        }
      ]
    },
    {
      "metadata": {
        "id": "s4Bgt_1JgyJ2",
        "colab_type": "code",
        "colab": {
          "base_uri": "https://localhost:8080/",
          "height": 54
        },
        "outputId": "64ffd7f3-e73e-462d-f818-bdfe353df44a"
      },
      "cell_type": "code",
      "source": [
        "from sklearn import datasets\n",
        "from sklearn import datasets, tree, model_selection\n",
        "from sklearn.naive_bayes import GaussianNB\n",
        "gnb = GaussianNB()\n",
        "\n",
        "\n",
        "digits = datasets.load_digits()\n",
        "\n",
        "[features_train, features_test, classes_train, classes_test] = model_selection.train_test_split(digits.data, digits.target, test_size=0.30)\n",
        "y_pred = gnb.fit(features_train, classes_train)\n",
        "\n",
        "score_train = gnb.score(features_train, classes_train)\n",
        "score_test = gnb.score(features_test, classes_test)\n",
        "\n",
        "print(\"score_train:\", score_train)\n",
        "print(\"score_test:\", score_test)"
      ],
      "execution_count": 3,
      "outputs": [
        {
          "output_type": "stream",
          "text": [
            "score_train: 0.8631662688941926\n",
            "score_test: 0.8407407407407408\n"
          ],
          "name": "stdout"
        }
      ]
    }
  ]
}